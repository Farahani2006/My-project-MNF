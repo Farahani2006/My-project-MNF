{
  "nbformat": 4,
  "nbformat_minor": 0,
  "metadata": {
    "colab": {
      "provenance": []
    },
    "kernelspec": {
      "name": "python3",
      "display_name": "Python 3"
    },
    "language_info": {
      "name": "python"
    }
  },
  "cells": [
    {
      "cell_type": "code",
      "execution_count": 49,
      "metadata": {
        "id": "s0aAAvxN6Kiw"
      },
      "outputs": [],
      "source": [
        "import numpy as np"
      ]
    },
    {
      "cell_type": "code",
      "source": [
        "code = input('Enter your national ID: ')"
      ],
      "metadata": {
        "colab": {
          "base_uri": "https://localhost:8080/"
        },
        "id": "MQBKM5R96PLW",
        "outputId": "5a519d9b-43e2-4b04-a7eb-0a45aab070b2"
      },
      "execution_count": 85,
      "outputs": [
        {
          "name": "stdout",
          "output_type": "stream",
          "text": [
            "Enter your national ID: 1111111111\n"
          ]
        }
      ]
    },
    {
      "cell_type": "code",
      "source": [
        "print(code)"
      ],
      "metadata": {
        "colab": {
          "base_uri": "https://localhost:8080/"
        },
        "id": "2BhZ-GMg6hFx",
        "outputId": "64a6b63a-4f09-4adc-cdb5-bb514759e409"
      },
      "execution_count": 86,
      "outputs": [
        {
          "output_type": "stream",
          "name": "stdout",
          "text": [
            "1111111111\n"
          ]
        }
      ]
    },
    {
      "cell_type": "code",
      "source": [
        "if len(code) > 10 or len(code) < 8:\n",
        "    print('Invalid')\n",
        "else:\n",
        "    # Add zeros to the start of the code to become 10 digits\n",
        "    code = code.zfill(10)\n",
        "    print(code)\n",
        "\n",
        "if len(set(code)) == 1:\n",
        "    print('Invalid')\n"
      ],
      "metadata": {
        "colab": {
          "base_uri": "https://localhost:8080/"
        },
        "id": "kjLpaW2T6VYX",
        "outputId": "9975c67f-4151-4eb0-979b-0a306013a143"
      },
      "execution_count": 87,
      "outputs": [
        {
          "output_type": "stream",
          "name": "stdout",
          "text": [
            "1111111111\n",
            "Invalid\n"
          ]
        }
      ]
    },
    {
      "cell_type": "code",
      "source": [
        "code_array = np.array(list(code), dtype=int)[:-1]\n",
        "code_array"
      ],
      "metadata": {
        "colab": {
          "base_uri": "https://localhost:8080/"
        },
        "id": "zqXOy8aV8Cmr",
        "outputId": "aab0583a-d123-4780-fd88-ef27176bc8e5"
      },
      "execution_count": 88,
      "outputs": [
        {
          "output_type": "execute_result",
          "data": {
            "text/plain": [
              "array([1, 1, 1, 1, 1, 1, 1, 1, 1])"
            ]
          },
          "metadata": {},
          "execution_count": 88
        }
      ]
    },
    {
      "cell_type": "code",
      "source": [
        "place_array = np.arange(2, 11)[::-1]\n",
        "place_array"
      ],
      "metadata": {
        "colab": {
          "base_uri": "https://localhost:8080/"
        },
        "id": "8ftF_47-8iMj",
        "outputId": "efab1885-7083-4c91-c14a-a3c4325724af"
      },
      "execution_count": 89,
      "outputs": [
        {
          "output_type": "execute_result",
          "data": {
            "text/plain": [
              "array([10,  9,  8,  7,  6,  5,  4,  3,  2])"
            ]
          },
          "metadata": {},
          "execution_count": 89
        }
      ]
    },
    {
      "cell_type": "code",
      "source": [
        "checksum = np.dot(code_array, place_array)\n",
        "# checksum = code_array @ place_array\n",
        "checksum"
      ],
      "metadata": {
        "colab": {
          "base_uri": "https://localhost:8080/"
        },
        "id": "tm-YV9pl8-s_",
        "outputId": "713a66fb-cc9e-4a37-c712-e6d420deab83"
      },
      "execution_count": 94,
      "outputs": [
        {
          "output_type": "execute_result",
          "data": {
            "text/plain": [
              "np.int64(54)"
            ]
          },
          "metadata": {},
          "execution_count": 94
        }
      ]
    },
    {
      "cell_type": "code",
      "source": [
        "remainder = checksum % 11\n",
        "remainder"
      ],
      "metadata": {
        "colab": {
          "base_uri": "https://localhost:8080/"
        },
        "id": "3JPsx8pb98oD",
        "outputId": "08573a5c-522f-40b8-9851-c826dce52298"
      },
      "execution_count": 91,
      "outputs": [
        {
          "output_type": "execute_result",
          "data": {
            "text/plain": [
              "np.int64(10)"
            ]
          },
          "metadata": {},
          "execution_count": 91
        }
      ]
    },
    {
      "cell_type": "code",
      "source": [
        "if remainder < 2:\n",
        "    control_digit = remainder\n",
        "else:\n",
        "    control_digit = 11 - remainder\n",
        "control_digit"
      ],
      "metadata": {
        "colab": {
          "base_uri": "https://localhost:8080/"
        },
        "id": "BOIYDkOz-CyC",
        "outputId": "93eebd3a-3e22-45ab-dd40-9bb0aedd9329"
      },
      "execution_count": 92,
      "outputs": [
        {
          "output_type": "execute_result",
          "data": {
            "text/plain": [
              "np.int64(1)"
            ]
          },
          "metadata": {},
          "execution_count": 92
        }
      ]
    },
    {
      "cell_type": "code",
      "source": [
        "if control_digit == int(code[-1]):\n",
        "    print('Valid')\n",
        "else:\n",
        "    print('Invalid')"
      ],
      "metadata": {
        "colab": {
          "base_uri": "https://localhost:8080/"
        },
        "id": "acsWi2j0-Qoc",
        "outputId": "084124f0-c402-49fa-ce67-737660c4219e"
      },
      "execution_count": 93,
      "outputs": [
        {
          "output_type": "stream",
          "name": "stdout",
          "text": [
            "Valid\n"
          ]
        }
      ]
    },
    {
      "cell_type": "code",
      "source": [],
      "metadata": {
        "id": "t7BrPUqk_b6c"
      },
      "execution_count": 83,
      "outputs": []
    }
  ]
}
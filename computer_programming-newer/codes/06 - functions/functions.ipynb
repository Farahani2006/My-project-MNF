{
  "nbformat": 4,
  "nbformat_minor": 0,
  "metadata": {
    "colab": {
      "provenance": [],
      "toc_visible": true
    },
    "kernelspec": {
      "name": "python3",
      "display_name": "Python 3"
    },
    "language_info": {
      "name": "python"
    }
  },
  "cells": [
    {
      "cell_type": "markdown",
      "source": [
        "# Functions in Python"
      ],
      "metadata": {
        "id": "JEtshe58nkte"
      }
    },
    {
      "cell_type": "markdown",
      "source": [
        "## No input variables / No output variables"
      ],
      "metadata": {
        "id": "ykVc_WjcnnM3"
      }
    },
    {
      "cell_type": "code",
      "execution_count": 5,
      "metadata": {
        "id": "h-sQHniBlfw1"
      },
      "outputs": [],
      "source": [
        "def print_line():\n",
        "    print('-'*35)"
      ]
    },
    {
      "cell_type": "code",
      "source": [
        "print_line()"
      ],
      "metadata": {
        "colab": {
          "base_uri": "https://localhost:8080/"
        },
        "id": "cHuMDjQ4oFHL",
        "outputId": "73dbb6dd-2c52-4fb9-fb0a-0a843375c4e7"
      },
      "execution_count": 6,
      "outputs": [
        {
          "output_type": "stream",
          "name": "stdout",
          "text": [
            "-----------------------------------\n"
          ]
        }
      ]
    },
    {
      "cell_type": "markdown",
      "source": [
        "## One input / No output"
      ],
      "metadata": {
        "id": "B1U-NSCKoeOE"
      }
    },
    {
      "cell_type": "code",
      "source": [
        "def print_with_stars(s):\n",
        "    print(f'**{s}**')"
      ],
      "metadata": {
        "id": "1eC4pxUzodjy"
      },
      "execution_count": 3,
      "outputs": []
    },
    {
      "cell_type": "code",
      "source": [
        "print_with_stars('salam')"
      ],
      "metadata": {
        "colab": {
          "base_uri": "https://localhost:8080/"
        },
        "id": "cIbI9ajLo010",
        "outputId": "059938f2-2d13-4692-f140-c111573f362e"
      },
      "execution_count": 4,
      "outputs": [
        {
          "output_type": "stream",
          "name": "stdout",
          "text": [
            "**salam**\n"
          ]
        }
      ]
    },
    {
      "cell_type": "markdown",
      "source": [
        "## One input / One output"
      ],
      "metadata": {
        "id": "_rFoAAybp-w-"
      }
    },
    {
      "cell_type": "code",
      "source": [
        "def double(x):\n",
        "    y = 2*x\n",
        "    return y"
      ],
      "metadata": {
        "id": "t5NPT_e8qAyo"
      },
      "execution_count": 8,
      "outputs": []
    },
    {
      "cell_type": "code",
      "source": [
        "result = double(42)\n",
        "print(result)"
      ],
      "metadata": {
        "colab": {
          "base_uri": "https://localhost:8080/"
        },
        "id": "7VnXm1ppqP7a",
        "outputId": "058f2c30-5a45-4caf-f61a-e1b7853e6603"
      },
      "execution_count": 11,
      "outputs": [
        {
          "output_type": "stream",
          "name": "stdout",
          "text": [
            "84\n"
          ]
        }
      ]
    },
    {
      "cell_type": "markdown",
      "source": [
        "## Two inputs / One output"
      ],
      "metadata": {
        "id": "nUwmE2jZsAWD"
      }
    },
    {
      "cell_type": "code",
      "source": [
        "def power_plus(a, b):\n",
        "    c = a**b\n",
        "    return c"
      ],
      "metadata": {
        "id": "Q73ClX9vsC7B"
      },
      "execution_count": 12,
      "outputs": []
    },
    {
      "cell_type": "code",
      "source": [
        "result = power_plus(2, 3)\n",
        "print(result)"
      ],
      "metadata": {
        "colab": {
          "base_uri": "https://localhost:8080/"
        },
        "id": "Zho7gICysT-6",
        "outputId": "e6d13649-6940-45dd-997b-0d9df6009c86"
      },
      "execution_count": 13,
      "outputs": [
        {
          "output_type": "stream",
          "name": "stdout",
          "text": [
            "8\n"
          ]
        }
      ]
    },
    {
      "cell_type": "markdown",
      "source": [
        "## One input / Two outputs"
      ],
      "metadata": {
        "id": "JbpEbeHSsY4g"
      }
    },
    {
      "cell_type": "code",
      "source": [
        "fn, ln = 'ali alavi'.split()\n",
        "print(fn)\n",
        "print(ln)"
      ],
      "metadata": {
        "colab": {
          "base_uri": "https://localhost:8080/"
        },
        "id": "6MsIS1m6tJNf",
        "outputId": "5c867d00-6ce4-48c2-dc74-e4957885d65d"
      },
      "execution_count": 19,
      "outputs": [
        {
          "output_type": "stream",
          "name": "stdout",
          "text": [
            "ali\n",
            "alavi\n"
          ]
        }
      ]
    },
    {
      "cell_type": "code",
      "source": [
        "def separate_names(fullname):\n",
        "    fn, ln = fullname.split()\n",
        "    return fn, ln"
      ],
      "metadata": {
        "id": "Uztyuw0Gsyn5"
      },
      "execution_count": 30,
      "outputs": []
    },
    {
      "cell_type": "code",
      "source": [
        "firstname, lastname = separate_names('Saeed Mohagheghi')\n",
        "print(firstname)\n",
        "print(lastname)"
      ],
      "metadata": {
        "colab": {
          "base_uri": "https://localhost:8080/"
        },
        "id": "-W-41V-Stbma",
        "outputId": "4341f904-ab7a-440e-a074-6969613100cb"
      },
      "execution_count": 31,
      "outputs": [
        {
          "output_type": "stream",
          "name": "stdout",
          "text": [
            "Saeed\n",
            "Mohagheghi\n"
          ]
        }
      ]
    },
    {
      "cell_type": "code",
      "source": [
        "import time\n",
        "\n",
        "def time_print(s):\n",
        "    for c in s:\n",
        "        print(c, end='')\n",
        "        time.sleep(0.2)\n",
        "    print()"
      ],
      "metadata": {
        "id": "_TBaqTKdtkU6"
      },
      "execution_count": 41,
      "outputs": []
    },
    {
      "cell_type": "code",
      "source": [
        "time_print('salam donya')"
      ],
      "metadata": {
        "colab": {
          "base_uri": "https://localhost:8080/"
        },
        "id": "6WfK2QJjvNkY",
        "outputId": "a51519db-dc84-413c-e389-87528a402097"
      },
      "execution_count": 42,
      "outputs": [
        {
          "output_type": "stream",
          "name": "stdout",
          "text": [
            "salam donya\n"
          ]
        }
      ]
    },
    {
      "cell_type": "code",
      "source": [
        "test = 'my very good text'\n",
        "time_print(test)"
      ],
      "metadata": {
        "colab": {
          "base_uri": "https://localhost:8080/"
        },
        "id": "LM78VatavR3D",
        "outputId": "d27417be-5e4e-4671-f932-26300af5b75f"
      },
      "execution_count": 43,
      "outputs": [
        {
          "output_type": "stream",
          "name": "stdout",
          "text": [
            "my very good text\n"
          ]
        }
      ]
    },
    {
      "cell_type": "markdown",
      "source": [
        "## National ID Validation"
      ],
      "metadata": {
        "id": "JDVGPKEov5iN"
      }
    },
    {
      "cell_type": "code",
      "source": [
        "import numpy as np\n",
        "\n",
        "\n",
        "def validate_melli_code(code):\n",
        "    if len(code) > 10 or len(code) < 8:\n",
        "        return False\n",
        "    else:\n",
        "        # Add zeros to the start of the code to become 10 digits\n",
        "        code = code.zfill(10)\n",
        "        print(code)\n",
        "\n",
        "    code_array = np.array(list(code), dtype=int)[:-1]\n",
        "    place_array = np.arange(2, 11)[::-1]\n",
        "    checksum = np.dot(code_array, place_array)\n",
        "    # checksum = code_array @ place_array\n",
        "\n",
        "    remainder = checksum % 11\n",
        "\n",
        "    if remainder < 2:\n",
        "        control_digit = remainder\n",
        "    else:\n",
        "        control_digit = 11 - remainder\n",
        "\n",
        "    if control_digit == int(code[-1]):\n",
        "        return True\n",
        "    else:\n",
        "        return False"
      ],
      "metadata": {
        "id": "QS7b5jb9vfj0"
      },
      "execution_count": 55,
      "outputs": []
    },
    {
      "cell_type": "code",
      "source": [
        "code = input('Please enter your national ID: ')\n",
        "if validate_melli_code(code):\n",
        "    print('National ID is valid.')\n",
        "else:\n",
        "    print('National ID is invalid.')"
      ],
      "metadata": {
        "colab": {
          "base_uri": "https://localhost:8080/"
        },
        "id": "VKY4MEbIwQUO",
        "outputId": "c3f43ecd-6018-4d85-e023-eca40b07c6a6"
      },
      "execution_count": 56,
      "outputs": [
        {
          "output_type": "stream",
          "name": "stdout",
          "text": [
            "Please enter your national ID: 1111111111\n",
            "1111111111\n",
            "National ID is valid.\n"
          ]
        }
      ]
    },
    {
      "cell_type": "code",
      "source": [],
      "metadata": {
        "id": "tNJI7iMQw7p4"
      },
      "execution_count": null,
      "outputs": []
    }
  ]
}